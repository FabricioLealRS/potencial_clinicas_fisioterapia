{
  "cells": [
    {
      "cell_type": "markdown",
      "metadata": {
        "id": "view-in-github",
        "colab_type": "text"
      },
      "source": [
        "<a href=\"https://colab.research.google.com/github/FabricioLealRS/potencial_clinicas_fisioterapia/blob/Code/Trabalho_grupo_marketing.ipynb\" target=\"_parent\"><img src=\"https://colab.research.google.com/assets/colab-badge.svg\" alt=\"Open In Colab\"/></a>"
      ]
    },
    {
      "cell_type": "code",
      "source": [
        "import pandas as pd\n",
        "import os\n",
        "\n",
        "# Diretório dos arquivos\n",
        "diretorio = 'C:/Users/mariovaldobf/Desktop/Importação/'\n",
        "\n",
        "# Lista dos nomes dos arquivos\n",
        "arquivos = [\n",
        "    'Acidentes_de_transito.csv',\n",
        "    'Estabelecimentos.csv',\n",
        "    'Municipios.csv',\n",
        "    'Populacao_residente.csv',\n",
        "    'Procedimentos_hospitalares_ARTICULACOES.csv',\n",
        "    'Procedimentos_hospitalares_AVC.csv',\n",
        "    'Procedimentos_hospitalares_CONDICOESNAUROLOGICAS.csv',\n",
        "    'Procedimentos_hospitalares_DOENCASCRONICAS.csv',\n",
        "    'Procedimentos_hospitalares_ORTOPEDICAS.csv',\n",
        "    'Qtd_beneficiarios_planosdesaude.csv'\n",
        "]\n",
        "\n",
        "# Dicionário que vai armazenar os dataframes\n",
        "dfs = {}\n",
        "\n",
        "for arquivo in arquivos:\n",
        "    # Cria o caminho completo do arquivo\n",
        "    caminho_completo = os.path.join(diretorio, arquivo)\n",
        "\n",
        "    # Lê o arquivo CSV\n",
        "    df = pd.read_csv(caminho_completo, sep=';')\n",
        "\n",
        "    # Remove a extensão .csv do nome do arquivo para usar como chave\n",
        "    chave = os.path.splitext(arquivo)[0]\n",
        "\n",
        "    # Armazena o dataframe no dicionário\n",
        "    dfs[chave] = df\n",
        "\n",
        "# Agora você pode acessar cada dataframe através da chave correspondente\n",
        "# Por exemplo, para ver as primeiras linhas do dataframe 'Acidentes_de_transito', você pode fazer:\n",
        "dfs['Acidentes_de_transito'].head(10)\n"
      ],
      "metadata": {
        "id": "LeOAyLdLXZ5Y"
      },
      "id": "LeOAyLdLXZ5Y",
      "execution_count": null,
      "outputs": []
    },
    {
      "cell_type": "markdown",
      "source": [
        "**União dos Dataframes de Procedimentos Hospitalares**\n",
        "\n",
        "Primeiramente iremos realizar a união dos dataframes de procedimento hospitalar, esse passo é necessário, pois embora não seja possivel baixarmos um unica arquivo no site do governo, para melhor trabalho podemos realizar a união destes todos em um unico df chamado df_procedimentos_hospitalaresPRE"
      ],
      "metadata": {
        "id": "5kBzE2DHX9pV"
      },
      "id": "5kBzE2DHX9pV"
    },
    {
      "cell_type": "code",
      "source": [
        "# Lista dos dataframes a serem unidos\n",
        "dfnames = [\n",
        "    'Procedimentos_hospitalares_ARTICULACOES',\n",
        "    'Procedimentos_hospitalares_AVC',\n",
        "    'Procedimentos_hospitalares_CONDICOESNAUROLOGICAS',\n",
        "    'Procedimentos_hospitalares_DOENCASCRONICAS',\n",
        "    'Procedimentos_hospitalares_ORTOPEDICAS'\n",
        "]\n",
        "\n",
        "# Inicializa o dataframe final com o primeiro dataframe da lista\n",
        "df_procedimentos_hospitalares = dfs[dfnames[0]].rename(columns={'AIH_aprovadas': dfnames[0]})\n",
        "\n",
        "# Itera sobre o resto dos dataframes\n",
        "for name in dfnames[1:]:\n",
        "    # Renomeia a coluna 'AIH_aprovadas' para o nome do dataframe e realiza a união\n",
        "    df_procedimentos_hospitalares = df_procedimentos_hospitalares.merge(dfs[name].rename(columns={'AIH_aprovadas': name}), on='Municipio', how='outer')\n",
        "\n",
        "# Remove a string 'Procedimentos_hospitalares_' dos nomes das outras colunas\n",
        "df_procedimentos_hospitalares.columns = df_procedimentos_hospitalares.columns.str.replace('Procedimentos_hospitalares_', '')\n",
        "\n",
        "# Split the 'Municipio' column into 'Codigo' and 'Nome'\n",
        "df_procedimentos_hospitalaresPRE['Codigo'] = df_procedimentos_hospitalaresPRE['Municipio'].str.slice(0, 6)\n",
        "df_procedimentos_hospitalaresPRE['Nome'] = df_procedimentos_hospitalaresPRE['Municipio'].str.slice(7)\n",
        "\n",
        "# Remove the original 'Municipio' column\n",
        "df_procedimentos_hospitalaresPRE = df_procedimentos_hospitalaresPRE.drop(columns=['Municipio'])\n",
        "\n",
        "# Reorder the columns to put 'Codigo' and 'Nome' first\n",
        "df_procedimentos_hospitalaresPRE = df_procedimentos_hospitalaresPRE[['Nome', 'Codigo'] + [col for col in df_procedimentos_hospitalaresPRE.columns if col not in ['Codigo', 'Nome']]]\n",
        "\n",
        "# Salva o dataframe ajustado em um arquivo CSV no diretório especificado\n",
        "df_procedimentos_hospitalares.to_csv(diretorio + 'df_procedimentos_hospitalares.csv', index=False, sep=';')\n",
        "\n",
        "# Exibe as primeiras linhas do dataframe final\n",
        "df_procedimentos_hospitalares.head()"
      ],
      "metadata": {
        "id": "e53DBvR4Xayc"
      },
      "id": "e53DBvR4Xayc",
      "execution_count": null,
      "outputs": []
    },
    {
      "cell_type": "markdown",
      "source": [
        "**Ajuste do df de população residente**"
      ],
      "metadata": {
        "id": "uKb_IwaZZO22"
      },
      "id": "uKb_IwaZZO22"
    },
    {
      "cell_type": "code",
      "source": [
        "# Access the 'Populacao_residente' dataframe\n",
        "df_populacao = dfs['Populacao_residente']\n",
        "\n",
        "# Print the first few rows to understand its structure\n",
        "df_populacao.head()\n",
        "\n",
        "# Drop the 'total' column\n",
        "df_populacao = df_populacao.drop(columns=['Total'])\n",
        "\n",
        "# Split the 'Municipio' column into 'Codigo' and 'Nome'\n",
        "df_populacao['Codigo'] = df_populacao['Municipio'].str.slice(0, 6)\n",
        "df_populacao['Nome'] = df_populacao['Municipio'].str.slice(7)\n",
        "\n",
        "# Drop the 'Municipio' column\n",
        "df_populacao = df_populacao.drop(columns=['Municipio'])\n",
        "\n",
        "# Reorder the columns to put 'Codigo' and 'Nome' at the beginning\n",
        "df_populacao = df_populacao[['Nome', 'Codigo'] + [col for col in df_populacao.columns if col not in ['Codigo', 'Nome']]]\n",
        "\n",
        "# Cria as novas colunas somando as colunas correspondentes\n",
        "df_populacao['Menor que 1 a 9 anos'] = df_populacao['Menor 1 ano'] + df_populacao['1 a 4 anos'] + df_populacao['5 a 9 anos']\n",
        "df_populacao['10 a 19 anos'] = df_populacao['10 a 14 anos'] + df_populacao['15 a 19 anos']\n",
        "\n",
        "# Agora, se você desejar, pode excluir as colunas originais que foram somadas\n",
        "df_populacao = df_populacao.drop(columns=['Menor 1 ano', '1 a 4 anos', '5 a 9 anos', '10 a 14 anos', '15 a 19 anos'])\n",
        "\n",
        "\n",
        "# Save the adjusted dataframe to a CSV file in the specified directory\n",
        "df_populacao.to_csv(diretorio + 'df_populacao.csv', index=False, sep=';')\n",
        "\n",
        "# Print the updated dataframe\n",
        "df_populacao.head()"
      ],
      "metadata": {
        "id": "hgViRzkOXir7"
      },
      "id": "hgViRzkOXir7",
      "execution_count": null,
      "outputs": []
    },
    {
      "cell_type": "markdown",
      "source": [
        "**Ajuste do df de acidente de transito**"
      ],
      "metadata": {
        "id": "vqZMYmI9ZwKt"
      },
      "id": "vqZMYmI9ZwKt"
    },
    {
      "cell_type": "code",
      "source": [
        "# Access the 'Acidentes_de_transito' dataframe\n",
        "df_acidentes = dfs['Acidentes_de_transito']\n",
        "\n",
        "# Split the 'Município de ocorrência' column into 'Codigo' and 'Nome'\n",
        "df_acidentes['Codigo'] = df_acidentes['Município de ocorrência'].str.slice(0, 6)\n",
        "df_acidentes['Nome'] = df_acidentes['Município de ocorrência'].str.slice(7)\n",
        "\n",
        "# Drop the 'Município de ocorrência' column\n",
        "df_acidentes = df_acidentes.drop(columns=['Município de ocorrência'])\n",
        "\n",
        "# Rename the 'Total' column to 'Acidentes de transito'\n",
        "df_acidentes = df_acidentes.rename(columns={'Total': 'Acidentes de transito'})\n",
        "\n",
        "# Reorder the columns to put 'Codigo' and 'Nome' first\n",
        "df_acidentes = df_acidentes[['Nome', 'Codigo'] + [col for col in df_acidentes.columns if col not in ['Codigo', 'Nome']]]\n",
        "\n",
        "# Print the updated dataframe\n",
        "df_acidentes.head()\n",
        "\n",
        "# Save the adjusted dataframe to a CSV file in the specified directory\n",
        "df_acidentes.to_csv(diretorio + 'df_acidentes.csv', index=False, sep=';')\n"
      ],
      "metadata": {
        "id": "7ABu5z62XlpD"
      },
      "id": "7ABu5z62XlpD",
      "execution_count": null,
      "outputs": []
    },
    {
      "cell_type": "markdown",
      "source": [
        "**Ajuste do df de Quantidade de Beneficiários do Plano de Saúde**"
      ],
      "metadata": {
        "id": "TDXF8psKZ02M"
      },
      "id": "TDXF8psKZ02M"
    },
    {
      "cell_type": "code",
      "source": [
        "# Access the 'Qtd_beneficiarios_planosdesaude' dataframe\n",
        "df_planos = dfs['Qtd_beneficiarios_planosdesaude']\n",
        "\n",
        "# Split the 'Município' column into 'Codigo' and 'Nome'\n",
        "df_planos['Codigo'] = df_planos['Município'].str.slice(0, 6)\n",
        "df_planos['Nome'] = df_planos['Município'].str.slice(7)\n",
        "\n",
        "# Drop the 'Município', 'Inconsistente' and 'Total' columns\n",
        "df_planos = df_planos.drop(columns=['Município', 'Inconsistente', 'Total'])\n",
        "\n",
        "# Create new columns by summing the desired columns\n",
        "df_planos['Menor que 1 a 9 anos'] = df_planos['Até 1 ano'] + df_planos['1 a 4 anos'] + df_planos['5 a 9 anos']\n",
        "df_planos['10 a 19 anos'] = df_planos['10 a 14 anos'] + df_planos['15 a 19 anos']\n",
        "df_planos['20 a 29 anos'] = df_planos['20 a 24 anos'] + df_planos['25 a 29 anos']\n",
        "df_planos['30 a 39 anos'] = df_planos['30 a 34 anos'] + df_planos['35 a 39 anos']\n",
        "df_planos['40 a 49 anos'] = df_planos['40 a 44 anos'] + df_planos['45 a 49 anos']\n",
        "df_planos['50 a 59 anos'] = df_planos['50 a 54 anos'] + df_planos['55 a 59 anos']\n",
        "df_planos['60 a 69 anos'] = df_planos['60 a 64 anos'] + df_planos['65 a 69 anos']\n",
        "df_planos['70 a 79 anos'] = df_planos['70 a 74 anos'] + df_planos['75 a 79 anos']\n",
        "\n",
        "# Rename the '80 anos ou mais' column\n",
        "df_planos = df_planos.rename(columns={'80 anos ou mais': '80 anos e mais'})\n",
        "\n",
        "# Drop the original columns\n",
        "df_planos = df_planos.drop(columns=['Até 1 ano', '1 a 4 anos', '5 a 9 anos', '10 a 14 anos', '15 a 19 anos',\n",
        "                                    '20 a 24 anos', '25 a 29 anos', '30 a 34 anos', '35 a 39 anos', '40 a 44 anos',\n",
        "                                    '45 a 49 anos', '50 a 54 anos', '55 a 59 anos', '60 a 64 anos', '65 a 69 anos',\n",
        "                                    '70 a 74 anos', '75 a 79 anos'])\n",
        "\n",
        "# Reorder the columns to put 'Codigo' and 'Nome' first\n",
        "df_planos = df_planos[['Nome', 'Codigo'] + [col for col in df_planos.columns if col not in ['Codigo', 'Nome']]]\n",
        "\n",
        "# Print the updated dataframe\n",
        "df_planos.head()\n",
        "\n",
        "# Save the adjusted dataframe to a CSV file in the specified directory\n",
        "df_planos.to_csv(diretorio + 'df_planos.csv', index=False, sep=';')\n"
      ],
      "metadata": {
        "id": "yj-d92YvXm_C"
      },
      "id": "yj-d92YvXm_C",
      "execution_count": null,
      "outputs": []
    },
    {
      "cell_type": "markdown",
      "source": [
        "**Ajuste do df de Estabelecimentos**"
      ],
      "metadata": {
        "id": "-lm2kg6GZ90k"
      },
      "id": "-lm2kg6GZ90k"
    },
    {
      "cell_type": "code",
      "source": [
        "df_empresas = dfs['Estabelecimentos']\n",
        "\n",
        "# List of columns to drop\n",
        "cols_to_drop = [\n",
        "    'CNPJ BÃƒÂSICO',\n",
        "    'CNPJ ORDEM',\n",
        "    'CNPJ DV',\n",
        "    'IDENTIFICADOR M-F',\n",
        "    'NOME FANTASIA',\n",
        "    'MOTIVOSITUACAO',\n",
        "    'NOME CIDADE EXTERIOR',\n",
        "    'PAIS',\n",
        "    'CNAE SECUNDARIO',\n",
        "    'TIPO LOGRADOURO',\n",
        "    'LOGRADOURO',\n",
        "    'NUMERO',\n",
        "    'COMPLEMENTO',\n",
        "    'BAIRRO',\n",
        "    'CEP',\n",
        "    'DDD1',\n",
        "    'TELEFONE1',\n",
        "    'DDD2',\n",
        "    'TELEFONE2',\n",
        "    'DDD FAX',\n",
        "    'FAX',\n",
        "    'CORREIO',\n",
        "    'SITUACAO ESPECIAL',\n",
        "    'DATASITUCACAO ESPECIAL',\n",
        "    'CNPJ BÃSICO'\n",
        "]\n",
        "\n",
        "# Drop the columns\n",
        "df_empresas = df_empresas.drop(columns=cols_to_drop)\n",
        "\n",
        "# Show the first few rows of the updated DataFrame\n",
        "df_empresas.head()\n"
      ],
      "metadata": {
        "id": "utQdJ1O7XplW"
      },
      "id": "utQdJ1O7XplW",
      "execution_count": null,
      "outputs": []
    },
    {
      "cell_type": "code",
      "source": [
        "# Create a series with the 'MUNICIPIO' column as index and the 'NOME MUNICIPIO' column as values\n",
        "nome_municipios = dfs['Municipios'].set_index('MUNICIPIO')['NOME MUNICIPIO']\n",
        "\n",
        "# Replace the values in the 'MUNICIPIO' column of the 'Estabelecimentos' dataframe using the created series\n",
        "df_empresas['MUNICIPIO'] = df_empresas['MUNICIPIO'].map(nome_municipios)\n",
        "\n",
        "# Show the first few rows of the updated DataFrame\n",
        "df_empresas.head()\n"
      ],
      "metadata": {
        "id": "aUV-aYosXsIq"
      },
      "id": "aUV-aYosXsIq",
      "execution_count": null,
      "outputs": []
    },
    {
      "cell_type": "code",
      "source": [
        "# Dictionary to replace values in the 'SITUACAO CADASTRAL' column\n",
        "situacao_cadastral_map = {\n",
        "    1: 'NULA',\n",
        "    2: 'ATIVA',\n",
        "    3: 'SUSPENSA',\n",
        "    4: 'INAPTA',\n",
        "    8: 'BAIXADA'\n",
        "}\n",
        "\n",
        "# Replace the values in the 'SITUACAO CADASTRAL' column using the dictionary\n",
        "df_empresas['SITUACAO CADASTRAL'] = df_empresas['SITUACAO CADASTRAL'].map(situacao_cadastral_map)\n",
        "\n",
        "# Show the first few rows of the updated DataFrame\n",
        "df_empresas.head()\n"
      ],
      "metadata": {
        "id": "RYVY-0kxXtZ8"
      },
      "id": "RYVY-0kxXtZ8",
      "execution_count": null,
      "outputs": []
    },
    {
      "cell_type": "code",
      "source": [
        "from datetime import datetime\n",
        "\n",
        "# Exclude rows with 'NULA', 'SUSPENSA', 'INAPTA', and 'BAIXADA' values in the 'SITUACAO CADASTRAL' column\n",
        "df_empresas = df_empresas[~df_empresas['SITUACAO CADASTRAL'].isin(['NULA', 'SUSPENSA', 'INAPTA', 'BAIXADA'])]\n",
        "\n",
        "# Exclude the 'DATA SITUACAO' column\n",
        "df_empresas = df_empresas.drop(columns=['DATA SITUACAO'])\n",
        "\n",
        "# Exclude the 'SITUACAO CADASTRAL' column\n",
        "df_empresas = df_empresas.drop(columns=['SITUACAO CADASTRAL'])\n",
        "\n",
        "# Exclude the 'CNAE PRINCIPAL' column\n",
        "df_empresas = df_empresas.drop(columns=['CNAE PRINCIPAL'])\n"
      ],
      "metadata": {
        "id": "d3_p4bNjXuo_"
      },
      "id": "d3_p4bNjXuo_",
      "execution_count": null,
      "outputs": []
    },
    {
      "cell_type": "code",
      "source": [
        "from math import floor\n",
        "\n",
        "# Convert 'DATA INICIO ATIVIDADE' column to string type\n",
        "df_empresas['DATA INICIO ATIVIDADE'] = df_empresas['DATA INICIO ATIVIDADE'].astype(str)\n",
        "\n",
        "# Add slashes in 'DATA INICIO ATIVIDADE' column\n",
        "df_empresas['DATA INICIO ATIVIDADE'] = df_empresas['DATA INICIO ATIVIDADE'].apply(lambda x: f\"{x[:4]}/{x[4:6]}/{x[6:]}\")\n",
        "\n",
        "# Convert 'DATA INICIO ATIVIDADE' column to datetime type\n",
        "df_empresas['DATA INICIO ATIVIDADE'] = pd.to_datetime(df_empresas['DATA INICIO ATIVIDADE'])\n",
        "\n",
        "# Calculate activity time in years without decimals\n",
        "df_empresas['TEMPO DE ATIVIDADE (ANOS)'] = (datetime.now() - df_empresas['DATA INICIO ATIVIDADE']).dt.days / 365\n",
        "df_empresas['TEMPO DE ATIVIDADE (ANOS)'] = df_empresas['TEMPO DE ATIVIDADE (ANOS)'].apply(floor)\n",
        "\n",
        "# Print the first few rows of the updated DataFrame\n",
        "print(df_empresas.head())\n",
        "\n",
        "# Save the adjusted DataFrame to a CSV file in the specified directory\n",
        "df_empresas.to_csv(diretorio + 'df_empresas.csv', index=False, sep=';')\n"
      ],
      "metadata": {
        "id": "cI2_08TuXwCn"
      },
      "id": "cI2_08TuXwCn",
      "execution_count": null,
      "outputs": []
    },
    {
      "cell_type": "code",
      "source": [
        "# Create the DataFrame df_empresas_qtd with the count of municipalities\n",
        "df_empresas_qtd = pd.DataFrame(df_empresas['MUNICIPIO'].value_counts()).reset_index()\n",
        "\n",
        "# Rename the columns\n",
        "df_empresas_qtd.columns = ['MUNICIPIO', 'Qtd empresas']\n",
        "\n",
        "# Print the DataFrame df_empresas_qtd\n",
        "print(df_empresas_qtd)\n",
        "\n",
        "# Save the adjusted DataFrame to a CSV file in the specified directory\n",
        "df_empresas_qtd.to_csv(diretorio + 'df_empresas_qtd.csv', index=False, sep=';')\n"
      ],
      "metadata": {
        "id": "KcGWhTKZXx4r"
      },
      "id": "KcGWhTKZXx4r",
      "execution_count": null,
      "outputs": []
    }
  ],
  "metadata": {
    "colab": {
      "provenance": [],
      "include_colab_link": true
    },
    "language_info": {
      "name": "python"
    },
    "kernelspec": {
      "name": "python3",
      "display_name": "Python 3"
    }
  },
  "nbformat": 4,
  "nbformat_minor": 5
}